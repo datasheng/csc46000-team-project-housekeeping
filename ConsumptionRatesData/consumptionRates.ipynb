{
 "cells": [
  {
   "cell_type": "code",
   "execution_count": 188,
   "id": "c35f5772",
   "metadata": {},
   "outputs": [
    {
     "name": "stdout",
     "output_type": "stream",
     "text": [
      "['Food', 'Child Care', 'Medical', 'Housing', 'Transportation', 'Civic', 'Internet & Mobile', 'Other', 'Required annual income after taxes', 'Annual taxes', 'Required annual income before taxes']\n"
     ]
    }
   ],
   "source": [
    "import pandas as pd\n",
    "from bs4 import BeautifulSoup\n",
    "import requests\n",
    "import numpy as np\n",
    "\n",
    "url='https://livingwage.mit.edu/counties/'\n",
    "\n",
    "start=36001\n",
    "end=36123\n",
    "codes=[]\n",
    "for i in range(start, end+1, 2):\n",
    "    codes.append(str(i))\n",
    "\n",
    "r=requests.get('https://livingwage.mit.edu/counties/36001')\n",
    "html_doc=r.text\n",
    "soup=BeautifulSoup(html_doc)\n",
    "\n",
    "expenseTable=soup.find_all(class_='results_table table-striped expense_table')[0]\n",
    "col_names=[]\n",
    "\n",
    "for col_name in expenseTable.find_all(class_='text'):\n",
    "    col_names.append(col_name.text)\n",
    "print(col_names)\n"
   ]
  },
  {
   "cell_type": "code",
   "execution_count": 189,
   "id": "ed9b8d3b",
   "metadata": {},
   "outputs": [],
   "source": [
    "requestPerCounty=[]\n",
    "for code in codes:\n",
    "    requestPerCounty.append(BeautifulSoup(requests.get('https://livingwage.mit.edu/counties/'+code).text))"
   ]
  },
  {
   "cell_type": "code",
   "execution_count": 200,
   "id": "2255e688",
   "metadata": {},
   "outputs": [],
   "source": [
    "tablePerCounty=[]\n",
    "for request in requestPerCounty:\n",
    "    tablePerCounty.append(request.find_all(class_='results_table table-striped expense_table')[0])\n",
    "\n",
    "dollarAmount=[]\n",
    "for table in tablePerCounty:\n",
    "    total=[]\n",
    "    for  trow in table.find_all('tr')[2:]:\n",
    "        total.append(trow.find_all('td')[1].text.strip())\n",
    "    dollarAmount.append(total)"
   ]
  },
  {
   "cell_type": "code",
   "execution_count": 191,
   "id": "327a17a2",
   "metadata": {},
   "outputs": [],
   "source": [
    "nys_counties = [\"Albany\", \"Allegany\", \"Bronx\", \"Broome\", \"Cattaraugus\", \"Cayuga\", \"Chautauqua\", \"Chemung\", \"Chenango\", \"Clinton\", \"Columbia\", \"Cortland\", \n",
    "                \"Delaware\", \"Dutchess\", \"Erie\", \"Essex\", \"Franklin\", \"Fulton\", \"Genesee\", \"Greene\", \"Hamilton\", \"Herkimer\", \"Jefferson\", \"Kings\", \"Lewis\", \n",
    "                \"Livingston\", \"Madison\", \"Monroe\", \"Montgomery\", \"Nassau\", \"New York\", \"Niagara\", \"Oneida\", \"Onondaga\", \"Ontario\", \"Orange\", \"Orleans\", \n",
    "                \"Oswego\", \"Otsego\", \"Putnam\", \"Queens\", \"Rensselaer\", \"Richmond\", \"Rockland\", \"St. Lawrence\", \"Saratoga\", \"Schenectady\", \"Schoharie\", \n",
    "                \"Schuyler\", \"Seneca\", \"Steuben\", \"Suffolk\", \"Sullivan\", \"Tioga\", \"Tompkins\", \"Ulster\", \"Warren\", \"Washington\", \"Wayne\", \"Westchester\", \n",
    "                \"Wyoming\", \"Yates\"]\n"
   ]
  },
  {
   "cell_type": "code",
   "execution_count": 192,
   "id": "4335f77e",
   "metadata": {},
   "outputs": [],
   "source": [
    "data=np.array(dollarAmount)\n",
    "df=pd.DataFrame(data, columns=col_names)\n",
    "df['County']=nys_counties\n",
    "df.set_index('County', inplace=True)\n",
    "pd.set_option('display.max_rows', None)  \n",
    "\n",
    "df.to_csv('countyData.csv')\n",
    "#df"
   ]
  },
  {
   "cell_type": "markdown",
   "id": "1d8380f6",
   "metadata": {},
   "source": [
    "Now doing the same for New York State as a whole from 2015-2025"
   ]
  },
  {
   "cell_type": "code",
   "execution_count": 193,
   "id": "9943670f",
   "metadata": {},
   "outputs": [],
   "source": [
    "years=['2015', '2016', '2017', '2018', '2019', '2020', '2021', '2022', '2023', '2024', '2025']\n",
    "\n",
    "links=['https://web.archive.org/web/20151220151322/https://livingwage.mit.edu/states/36',\n",
    "       'https://web.archive.org/web/20161207171550/https://livingwage.mit.edu/states/36',\n",
    "       'https://web.archive.org/web/20171207053953/https://livingwage.mit.edu/states/36',\n",
    "       'https://web.archive.org/web/20181026231852/https://livingwage.mit.edu/states/36',\n",
    "       'https://web.archive.org/web/20190811183231/http://livingwage.mit.edu/states/36',\n",
    "       'https://web.archive.org/web/20201124071353/https://livingwage.mit.edu/states/36',\n",
    "       'https://web.archive.org/web/20211016060013/https://livingwage.mit.edu/states/36',\n",
    "       'https://web.archive.org/web/20221223191058/https://livingwage.mit.edu/states/36',\n",
    "       'https://web.archive.org/web/20231202131633/https://livingwage.mit.edu/states/36',\n",
    "       'https://web.archive.org/web/20241230163723/https://livingwage.mit.edu/states/36',\n",
    "       'https://livingwage.mit.edu/states/36'\n",
    "       ]"
   ]
  },
  {
   "cell_type": "code",
   "execution_count": 194,
   "id": "8ed20ec8",
   "metadata": {},
   "outputs": [],
   "source": [
    "requestPerYear=[]\n",
    "for link in links:\n",
    "    requestPerYear.append(BeautifulSoup(requests.get(link).text))"
   ]
  },
  {
   "cell_type": "code",
   "execution_count": 195,
   "id": "559d6ed9",
   "metadata": {},
   "outputs": [
    {
     "name": "stderr",
     "output_type": "stream",
     "text": [
      "C:\\Users\\fatou\\AppData\\Local\\Temp\\ipykernel_50248\\557875152.py:17: DeprecationWarning: Call to deprecated method findAll. (Replaced by find_all) -- Deprecated since version 4.0.0.\n",
      "  total.append(trow.findAll('td')[1].text.strip())\n",
      "C:\\Users\\fatou\\AppData\\Local\\Temp\\ipykernel_50248\\557875152.py:14: DeprecationWarning: Call to deprecated method findAll. (Replaced by find_all) -- Deprecated since version 4.0.0.\n",
      "  total.append(trow.findAll('td')[1].text.strip())\n"
     ]
    }
   ],
   "source": [
    "tablePerYear=[]\n",
    "for request in requestPerYear:\n",
    "    try:\n",
    "        tablePerYear.append(request.find_all(class_='table table-striped table-condensed expenses_table')[0])\n",
    "    except:\n",
    "        tablePerYear.append(request.find_all(class_='results_table table-striped expense_table')[0])\n",
    "\n",
    "count=0\n",
    "dollarAmountperYear=[]\n",
    "for table in tablePerYear:\n",
    "    total=[]\n",
    "    if count>4:\n",
    "        for  trow in table.find_all('tr')[2:]:\n",
    "            total.append(trow.findAll('td')[1].text.strip())\n",
    "    else:\n",
    "        for  trow in table.find_all('tr')[1:]:\n",
    "            total.append(trow.findAll('td')[1].text.strip())\n",
    "    count+=1\n",
    "    dollarAmountperYear.append(total)"
   ]
  },
  {
   "cell_type": "code",
   "execution_count": 196,
   "id": "3faa2d11",
   "metadata": {},
   "outputs": [],
   "source": [
    "data3=np.array(dollarAmountperYear[9:11])\n",
    "df2=pd.DataFrame(data3, columns=col_names)\n",
    "\n",
    "col_names2=col_names.copy()\n",
    "col_names2.remove('Internet & Mobile')\n",
    "data4=np.array(dollarAmountperYear[6:9])\n",
    "df3=pd.DataFrame(data4, columns=col_names2)\n",
    "\n",
    "col_names3=col_names2.copy()\n",
    "col_names3.remove('Civic')\n",
    "data4=np.array(dollarAmountperYear[:6])\n",
    "df4=pd.DataFrame(data4, columns=col_names3)\n",
    "\n",
    "\n",
    "allYears = pd.concat([df2, df3, df4], axis=0)\n",
    "dollarAmountperYear\n",
    "allYears['year']=years\n",
    "allYears.set_index('year', inplace=True)\n",
    "allYears.to_csv('nysData.csv')"
   ]
  }
 ],
 "metadata": {
  "kernelspec": {
   "display_name": "Python 3",
   "language": "python",
   "name": "python3"
  },
  "language_info": {
   "codemirror_mode": {
    "name": "ipython",
    "version": 3
   },
   "file_extension": ".py",
   "mimetype": "text/x-python",
   "name": "python",
   "nbconvert_exporter": "python",
   "pygments_lexer": "ipython3",
   "version": "3.13.5"
  }
 },
 "nbformat": 4,
 "nbformat_minor": 5
}
